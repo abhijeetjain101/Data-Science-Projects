{
 "cells": [
  {
   "cell_type": "code",
   "execution_count": 126,
   "metadata": {},
   "outputs": [],
   "source": [
    "import numpy as np\n",
    "import pandas as pd\n",
    "import matplotlib.pyplot as plt\n",
    "from pandas.plotting import scatter_matrix\n",
    "import seaborn as sns \n",
    "sns.set(style='white',color_codes =True)\n",
    "sns.set(font_scale=1.5)\n",
    "\n",
    "from sklearn.linear_model import LogisticRegression\n",
    "from sklearn.model_selection import train_test_split\n",
    "\n",
    "from sklearn.metrics import confusion_matrix\n",
    "from sklearn.metrics import classification_report\n",
    "from sklearn.metrics import accuracy_score\n",
    "from sklearn.metrics import precision_score\n",
    "from sklearn.metrics import recall_score\n",
    "from sklearn.metrics import f1_score\n",
    "from sklearn import metrics"
   ]
  },
  {
   "cell_type": "code",
   "execution_count": 75,
   "metadata": {},
   "outputs": [],
   "source": [
    "from IPython.core.interactiveshell import InteractiveShell\n",
    "InteractiveShell.ast_node_interactivity = \"all\""
   ]
  },
  {
   "cell_type": "code",
   "execution_count": 76,
   "metadata": {},
   "outputs": [
    {
     "data": {
      "text/html": [
       "<div>\n",
       "<style scoped>\n",
       "    .dataframe tbody tr th:only-of-type {\n",
       "        vertical-align: middle;\n",
       "    }\n",
       "\n",
       "    .dataframe tbody tr th {\n",
       "        vertical-align: top;\n",
       "    }\n",
       "\n",
       "    .dataframe thead th {\n",
       "        text-align: right;\n",
       "    }\n",
       "</style>\n",
       "<table border=\"1\" class=\"dataframe\">\n",
       "  <thead>\n",
       "    <tr style=\"text-align: right;\">\n",
       "      <th></th>\n",
       "      <th>PassengerId</th>\n",
       "      <th>Survived</th>\n",
       "      <th>Pclass</th>\n",
       "      <th>Name</th>\n",
       "      <th>Sex</th>\n",
       "      <th>Age</th>\n",
       "      <th>SibSp</th>\n",
       "      <th>Parch</th>\n",
       "      <th>Ticket</th>\n",
       "      <th>Fare</th>\n",
       "      <th>Cabin</th>\n",
       "      <th>Embarked</th>\n",
       "    </tr>\n",
       "  </thead>\n",
       "  <tbody>\n",
       "    <tr>\n",
       "      <th>0</th>\n",
       "      <td>1</td>\n",
       "      <td>0</td>\n",
       "      <td>3</td>\n",
       "      <td>Braund, Mr. Owen Harris</td>\n",
       "      <td>male</td>\n",
       "      <td>22.0</td>\n",
       "      <td>1</td>\n",
       "      <td>0</td>\n",
       "      <td>A/5 21171</td>\n",
       "      <td>7.2500</td>\n",
       "      <td>NaN</td>\n",
       "      <td>S</td>\n",
       "    </tr>\n",
       "    <tr>\n",
       "      <th>1</th>\n",
       "      <td>2</td>\n",
       "      <td>1</td>\n",
       "      <td>1</td>\n",
       "      <td>Cumings, Mrs. John Bradley (Florence Briggs Th...</td>\n",
       "      <td>female</td>\n",
       "      <td>38.0</td>\n",
       "      <td>1</td>\n",
       "      <td>0</td>\n",
       "      <td>PC 17599</td>\n",
       "      <td>71.2833</td>\n",
       "      <td>C85</td>\n",
       "      <td>C</td>\n",
       "    </tr>\n",
       "    <tr>\n",
       "      <th>2</th>\n",
       "      <td>3</td>\n",
       "      <td>1</td>\n",
       "      <td>3</td>\n",
       "      <td>Heikkinen, Miss. Laina</td>\n",
       "      <td>female</td>\n",
       "      <td>26.0</td>\n",
       "      <td>0</td>\n",
       "      <td>0</td>\n",
       "      <td>STON/O2. 3101282</td>\n",
       "      <td>7.9250</td>\n",
       "      <td>NaN</td>\n",
       "      <td>S</td>\n",
       "    </tr>\n",
       "    <tr>\n",
       "      <th>3</th>\n",
       "      <td>4</td>\n",
       "      <td>1</td>\n",
       "      <td>1</td>\n",
       "      <td>Futrelle, Mrs. Jacques Heath (Lily May Peel)</td>\n",
       "      <td>female</td>\n",
       "      <td>35.0</td>\n",
       "      <td>1</td>\n",
       "      <td>0</td>\n",
       "      <td>113803</td>\n",
       "      <td>53.1000</td>\n",
       "      <td>C123</td>\n",
       "      <td>S</td>\n",
       "    </tr>\n",
       "    <tr>\n",
       "      <th>4</th>\n",
       "      <td>5</td>\n",
       "      <td>0</td>\n",
       "      <td>3</td>\n",
       "      <td>Allen, Mr. William Henry</td>\n",
       "      <td>male</td>\n",
       "      <td>35.0</td>\n",
       "      <td>0</td>\n",
       "      <td>0</td>\n",
       "      <td>373450</td>\n",
       "      <td>8.0500</td>\n",
       "      <td>NaN</td>\n",
       "      <td>S</td>\n",
       "    </tr>\n",
       "  </tbody>\n",
       "</table>\n",
       "</div>"
      ],
      "text/plain": [
       "   PassengerId  Survived  Pclass  \\\n",
       "0            1         0       3   \n",
       "1            2         1       1   \n",
       "2            3         1       3   \n",
       "3            4         1       1   \n",
       "4            5         0       3   \n",
       "\n",
       "                                                Name     Sex   Age  SibSp  \\\n",
       "0                            Braund, Mr. Owen Harris    male  22.0      1   \n",
       "1  Cumings, Mrs. John Bradley (Florence Briggs Th...  female  38.0      1   \n",
       "2                             Heikkinen, Miss. Laina  female  26.0      0   \n",
       "3       Futrelle, Mrs. Jacques Heath (Lily May Peel)  female  35.0      1   \n",
       "4                           Allen, Mr. William Henry    male  35.0      0   \n",
       "\n",
       "   Parch            Ticket     Fare Cabin Embarked  \n",
       "0      0         A/5 21171   7.2500   NaN        S  \n",
       "1      0          PC 17599  71.2833   C85        C  \n",
       "2      0  STON/O2. 3101282   7.9250   NaN        S  \n",
       "3      0            113803  53.1000  C123        S  \n",
       "4      0            373450   8.0500   NaN        S  "
      ]
     },
     "execution_count": 76,
     "metadata": {},
     "output_type": "execute_result"
    },
    {
     "data": {
      "text/plain": [
       "(891, 12)"
      ]
     },
     "execution_count": 76,
     "metadata": {},
     "output_type": "execute_result"
    }
   ],
   "source": [
    "df_train = pd.read_csv(\"J:/Datasets/titanic/train.csv\")\n",
    "df_train.head()\n",
    "df_train.shape"
   ]
  },
  {
   "cell_type": "code",
   "execution_count": 77,
   "metadata": {},
   "outputs": [
    {
     "data": {
      "text/plain": [
       "0    549\n",
       "1    342\n",
       "Name: Survived, dtype: int64"
      ]
     },
     "execution_count": 77,
     "metadata": {},
     "output_type": "execute_result"
    }
   ],
   "source": [
    "df_train.Survived.value_counts()"
   ]
  },
  {
   "cell_type": "code",
   "execution_count": 78,
   "metadata": {},
   "outputs": [
    {
     "data": {
      "text/plain": [
       "male      577\n",
       "female    314\n",
       "Name: Sex, dtype: int64"
      ]
     },
     "execution_count": 78,
     "metadata": {},
     "output_type": "execute_result"
    }
   ],
   "source": [
    "df_train.Sex.value_counts()"
   ]
  },
  {
   "cell_type": "code",
   "execution_count": 79,
   "metadata": {},
   "outputs": [
    {
     "data": {
      "text/plain": [
       "S    644\n",
       "C    168\n",
       "Q     77\n",
       "Name: Embarked, dtype: int64"
      ]
     },
     "execution_count": 79,
     "metadata": {},
     "output_type": "execute_result"
    }
   ],
   "source": [
    "df_train.Embarked.value_counts()"
   ]
  },
  {
   "cell_type": "code",
   "execution_count": 80,
   "metadata": {},
   "outputs": [
    {
     "data": {
      "text/plain": [
       "PassengerId      0\n",
       "Survived         0\n",
       "Pclass           0\n",
       "Name             0\n",
       "Sex              0\n",
       "Age            177\n",
       "SibSp            0\n",
       "Parch            0\n",
       "Ticket           0\n",
       "Fare             0\n",
       "Cabin          687\n",
       "Embarked         2\n",
       "dtype: int64"
      ]
     },
     "execution_count": 80,
     "metadata": {},
     "output_type": "execute_result"
    }
   ],
   "source": [
    "df_train.isnull().sum()"
   ]
  },
  {
   "cell_type": "code",
   "execution_count": 81,
   "metadata": {},
   "outputs": [
    {
     "data": {
      "text/plain": [
       "(891, 12)"
      ]
     },
     "execution_count": 81,
     "metadata": {},
     "output_type": "execute_result"
    }
   ],
   "source": [
    "df_train.shape"
   ]
  },
  {
   "cell_type": "code",
   "execution_count": 82,
   "metadata": {},
   "outputs": [
    {
     "data": {
      "text/html": [
       "<div>\n",
       "<style scoped>\n",
       "    .dataframe tbody tr th:only-of-type {\n",
       "        vertical-align: middle;\n",
       "    }\n",
       "\n",
       "    .dataframe tbody tr th {\n",
       "        vertical-align: top;\n",
       "    }\n",
       "\n",
       "    .dataframe thead th {\n",
       "        text-align: right;\n",
       "    }\n",
       "</style>\n",
       "<table border=\"1\" class=\"dataframe\">\n",
       "  <thead>\n",
       "    <tr style=\"text-align: right;\">\n",
       "      <th></th>\n",
       "      <th>Survived</th>\n",
       "      <th>Pclass</th>\n",
       "      <th>Sex</th>\n",
       "      <th>Age</th>\n",
       "      <th>SibSp</th>\n",
       "      <th>Parch</th>\n",
       "      <th>Fare</th>\n",
       "      <th>Embarked</th>\n",
       "    </tr>\n",
       "  </thead>\n",
       "  <tbody>\n",
       "    <tr>\n",
       "      <th>0</th>\n",
       "      <td>0</td>\n",
       "      <td>3</td>\n",
       "      <td>male</td>\n",
       "      <td>22.0</td>\n",
       "      <td>1</td>\n",
       "      <td>0</td>\n",
       "      <td>7.2500</td>\n",
       "      <td>S</td>\n",
       "    </tr>\n",
       "    <tr>\n",
       "      <th>1</th>\n",
       "      <td>1</td>\n",
       "      <td>1</td>\n",
       "      <td>female</td>\n",
       "      <td>38.0</td>\n",
       "      <td>1</td>\n",
       "      <td>0</td>\n",
       "      <td>71.2833</td>\n",
       "      <td>C</td>\n",
       "    </tr>\n",
       "    <tr>\n",
       "      <th>2</th>\n",
       "      <td>1</td>\n",
       "      <td>3</td>\n",
       "      <td>female</td>\n",
       "      <td>26.0</td>\n",
       "      <td>0</td>\n",
       "      <td>0</td>\n",
       "      <td>7.9250</td>\n",
       "      <td>S</td>\n",
       "    </tr>\n",
       "    <tr>\n",
       "      <th>3</th>\n",
       "      <td>1</td>\n",
       "      <td>1</td>\n",
       "      <td>female</td>\n",
       "      <td>35.0</td>\n",
       "      <td>1</td>\n",
       "      <td>0</td>\n",
       "      <td>53.1000</td>\n",
       "      <td>S</td>\n",
       "    </tr>\n",
       "    <tr>\n",
       "      <th>4</th>\n",
       "      <td>0</td>\n",
       "      <td>3</td>\n",
       "      <td>male</td>\n",
       "      <td>35.0</td>\n",
       "      <td>0</td>\n",
       "      <td>0</td>\n",
       "      <td>8.0500</td>\n",
       "      <td>S</td>\n",
       "    </tr>\n",
       "  </tbody>\n",
       "</table>\n",
       "</div>"
      ],
      "text/plain": [
       "   Survived  Pclass     Sex   Age  SibSp  Parch     Fare Embarked\n",
       "0         0       3    male  22.0      1      0   7.2500        S\n",
       "1         1       1  female  38.0      1      0  71.2833        C\n",
       "2         1       3  female  26.0      0      0   7.9250        S\n",
       "3         1       1  female  35.0      1      0  53.1000        S\n",
       "4         0       3    male  35.0      0      0   8.0500        S"
      ]
     },
     "execution_count": 82,
     "metadata": {},
     "output_type": "execute_result"
    }
   ],
   "source": [
    "df_train = df_train.drop(['PassengerId','Name','Ticket','Cabin'],axis = 1)\n",
    "df_train.head()"
   ]
  },
  {
   "cell_type": "code",
   "execution_count": 83,
   "metadata": {},
   "outputs": [],
   "source": [
    "def age_approx(cols):\n",
    "    Age = cols[0]\n",
    "    Pclass = cols[1]\n",
    "    \n",
    "    if pd.isnull(Age):\n",
    "        if Pclass == 1:\n",
    "            return 37\n",
    "        elif Pclass == 2:\n",
    "            return 29\n",
    "        else:\n",
    "            return 24\n",
    "    else:\n",
    "        return Age"
   ]
  },
  {
   "cell_type": "code",
   "execution_count": 84,
   "metadata": {},
   "outputs": [
    {
     "data": {
      "text/html": [
       "<div>\n",
       "<style scoped>\n",
       "    .dataframe tbody tr th:only-of-type {\n",
       "        vertical-align: middle;\n",
       "    }\n",
       "\n",
       "    .dataframe tbody tr th {\n",
       "        vertical-align: top;\n",
       "    }\n",
       "\n",
       "    .dataframe thead th {\n",
       "        text-align: right;\n",
       "    }\n",
       "</style>\n",
       "<table border=\"1\" class=\"dataframe\">\n",
       "  <thead>\n",
       "    <tr style=\"text-align: right;\">\n",
       "      <th></th>\n",
       "      <th>Survived</th>\n",
       "      <th>Age</th>\n",
       "      <th>SibSp</th>\n",
       "      <th>Parch</th>\n",
       "      <th>Fare</th>\n",
       "    </tr>\n",
       "    <tr>\n",
       "      <th>Pclass</th>\n",
       "      <th></th>\n",
       "      <th></th>\n",
       "      <th></th>\n",
       "      <th></th>\n",
       "      <th></th>\n",
       "    </tr>\n",
       "  </thead>\n",
       "  <tbody>\n",
       "    <tr>\n",
       "      <th>1</th>\n",
       "      <td>0.629630</td>\n",
       "      <td>38.233441</td>\n",
       "      <td>0.416667</td>\n",
       "      <td>0.356481</td>\n",
       "      <td>84.154687</td>\n",
       "    </tr>\n",
       "    <tr>\n",
       "      <th>2</th>\n",
       "      <td>0.472826</td>\n",
       "      <td>29.877630</td>\n",
       "      <td>0.402174</td>\n",
       "      <td>0.380435</td>\n",
       "      <td>20.662183</td>\n",
       "    </tr>\n",
       "    <tr>\n",
       "      <th>3</th>\n",
       "      <td>0.242363</td>\n",
       "      <td>25.140620</td>\n",
       "      <td>0.615071</td>\n",
       "      <td>0.393075</td>\n",
       "      <td>13.675550</td>\n",
       "    </tr>\n",
       "  </tbody>\n",
       "</table>\n",
       "</div>"
      ],
      "text/plain": [
       "        Survived        Age     SibSp     Parch       Fare\n",
       "Pclass                                                    \n",
       "1       0.629630  38.233441  0.416667  0.356481  84.154687\n",
       "2       0.472826  29.877630  0.402174  0.380435  20.662183\n",
       "3       0.242363  25.140620  0.615071  0.393075  13.675550"
      ]
     },
     "execution_count": 84,
     "metadata": {},
     "output_type": "execute_result"
    }
   ],
   "source": [
    "df_train.groupby(['Pclass']).mean()"
   ]
  },
  {
   "cell_type": "code",
   "execution_count": 85,
   "metadata": {},
   "outputs": [],
   "source": [
    "df_train['Age'] = df_train[['Age','Pclass']].apply(age_approx, axis=1)"
   ]
  },
  {
   "cell_type": "code",
   "execution_count": 86,
   "metadata": {},
   "outputs": [
    {
     "data": {
      "text/plain": [
       "Survived    0\n",
       "Pclass      0\n",
       "Sex         0\n",
       "Age         0\n",
       "SibSp       0\n",
       "Parch       0\n",
       "Fare        0\n",
       "Embarked    2\n",
       "dtype: int64"
      ]
     },
     "execution_count": 86,
     "metadata": {},
     "output_type": "execute_result"
    }
   ],
   "source": [
    "df_train.isnull().sum()"
   ]
  },
  {
   "cell_type": "code",
   "execution_count": 87,
   "metadata": {},
   "outputs": [
    {
     "data": {
      "text/plain": [
       "Survived    0\n",
       "Pclass      0\n",
       "Sex         0\n",
       "Age         0\n",
       "SibSp       0\n",
       "Parch       0\n",
       "Fare        0\n",
       "Embarked    0\n",
       "dtype: int64"
      ]
     },
     "execution_count": 87,
     "metadata": {},
     "output_type": "execute_result"
    }
   ],
   "source": [
    "df_train.dropna(inplace=True)\n",
    "df_train.isnull().sum()"
   ]
  },
  {
   "cell_type": "code",
   "execution_count": 88,
   "metadata": {},
   "outputs": [
    {
     "data": {
      "text/plain": [
       "Survived      int64\n",
       "Pclass        int64\n",
       "Sex          object\n",
       "Age         float64\n",
       "SibSp         int64\n",
       "Parch         int64\n",
       "Fare        float64\n",
       "Embarked     object\n",
       "dtype: object"
      ]
     },
     "execution_count": 88,
     "metadata": {},
     "output_type": "execute_result"
    }
   ],
   "source": [
    "df_train.dtypes"
   ]
  },
  {
   "cell_type": "code",
   "execution_count": 89,
   "metadata": {},
   "outputs": [],
   "source": [
    "df_train_dummied = pd.get_dummies(df_train, columns = ['Sex'])"
   ]
  },
  {
   "cell_type": "code",
   "execution_count": 90,
   "metadata": {},
   "outputs": [],
   "source": [
    "df_train_dummied = pd.get_dummies(df_train_dummied, columns = [\"Embarked\"])"
   ]
  },
  {
   "cell_type": "code",
   "execution_count": 91,
   "metadata": {},
   "outputs": [
    {
     "data": {
      "text/html": [
       "<div>\n",
       "<style scoped>\n",
       "    .dataframe tbody tr th:only-of-type {\n",
       "        vertical-align: middle;\n",
       "    }\n",
       "\n",
       "    .dataframe tbody tr th {\n",
       "        vertical-align: top;\n",
       "    }\n",
       "\n",
       "    .dataframe thead th {\n",
       "        text-align: right;\n",
       "    }\n",
       "</style>\n",
       "<table border=\"1\" class=\"dataframe\">\n",
       "  <thead>\n",
       "    <tr style=\"text-align: right;\">\n",
       "      <th></th>\n",
       "      <th>Survived</th>\n",
       "      <th>Pclass</th>\n",
       "      <th>Age</th>\n",
       "      <th>SibSp</th>\n",
       "      <th>Parch</th>\n",
       "      <th>Fare</th>\n",
       "      <th>Sex_female</th>\n",
       "      <th>Sex_male</th>\n",
       "      <th>Embarked_C</th>\n",
       "      <th>Embarked_Q</th>\n",
       "      <th>Embarked_S</th>\n",
       "    </tr>\n",
       "  </thead>\n",
       "  <tbody>\n",
       "    <tr>\n",
       "      <th>0</th>\n",
       "      <td>0</td>\n",
       "      <td>3</td>\n",
       "      <td>22.0</td>\n",
       "      <td>1</td>\n",
       "      <td>0</td>\n",
       "      <td>7.2500</td>\n",
       "      <td>0</td>\n",
       "      <td>1</td>\n",
       "      <td>0</td>\n",
       "      <td>0</td>\n",
       "      <td>1</td>\n",
       "    </tr>\n",
       "    <tr>\n",
       "      <th>1</th>\n",
       "      <td>1</td>\n",
       "      <td>1</td>\n",
       "      <td>38.0</td>\n",
       "      <td>1</td>\n",
       "      <td>0</td>\n",
       "      <td>71.2833</td>\n",
       "      <td>1</td>\n",
       "      <td>0</td>\n",
       "      <td>1</td>\n",
       "      <td>0</td>\n",
       "      <td>0</td>\n",
       "    </tr>\n",
       "    <tr>\n",
       "      <th>2</th>\n",
       "      <td>1</td>\n",
       "      <td>3</td>\n",
       "      <td>26.0</td>\n",
       "      <td>0</td>\n",
       "      <td>0</td>\n",
       "      <td>7.9250</td>\n",
       "      <td>1</td>\n",
       "      <td>0</td>\n",
       "      <td>0</td>\n",
       "      <td>0</td>\n",
       "      <td>1</td>\n",
       "    </tr>\n",
       "    <tr>\n",
       "      <th>3</th>\n",
       "      <td>1</td>\n",
       "      <td>1</td>\n",
       "      <td>35.0</td>\n",
       "      <td>1</td>\n",
       "      <td>0</td>\n",
       "      <td>53.1000</td>\n",
       "      <td>1</td>\n",
       "      <td>0</td>\n",
       "      <td>0</td>\n",
       "      <td>0</td>\n",
       "      <td>1</td>\n",
       "    </tr>\n",
       "    <tr>\n",
       "      <th>4</th>\n",
       "      <td>0</td>\n",
       "      <td>3</td>\n",
       "      <td>35.0</td>\n",
       "      <td>0</td>\n",
       "      <td>0</td>\n",
       "      <td>8.0500</td>\n",
       "      <td>0</td>\n",
       "      <td>1</td>\n",
       "      <td>0</td>\n",
       "      <td>0</td>\n",
       "      <td>1</td>\n",
       "    </tr>\n",
       "  </tbody>\n",
       "</table>\n",
       "</div>"
      ],
      "text/plain": [
       "   Survived  Pclass   Age  SibSp  Parch     Fare  Sex_female  Sex_male  \\\n",
       "0         0       3  22.0      1      0   7.2500           0         1   \n",
       "1         1       1  38.0      1      0  71.2833           1         0   \n",
       "2         1       3  26.0      0      0   7.9250           1         0   \n",
       "3         1       1  35.0      1      0  53.1000           1         0   \n",
       "4         0       3  35.0      0      0   8.0500           0         1   \n",
       "\n",
       "   Embarked_C  Embarked_Q  Embarked_S  \n",
       "0           0           0           1  \n",
       "1           1           0           0  \n",
       "2           0           0           1  \n",
       "3           0           0           1  \n",
       "4           0           0           1  "
      ]
     },
     "execution_count": 91,
     "metadata": {},
     "output_type": "execute_result"
    }
   ],
   "source": [
    "df_train_dummied.head()"
   ]
  },
  {
   "cell_type": "code",
   "execution_count": 92,
   "metadata": {},
   "outputs": [
    {
     "data": {
      "text/plain": [
       "<Figure size 720x720 with 0 Axes>"
      ]
     },
     "execution_count": 92,
     "metadata": {},
     "output_type": "execute_result"
    },
    {
     "data": {
      "text/plain": [
       "<matplotlib.axes._subplots.AxesSubplot at 0x22c1021bba8>"
      ]
     },
     "execution_count": 92,
     "metadata": {},
     "output_type": "execute_result"
    },
    {
     "data": {
      "image/png": "[encoded data removed]",
      "text/plain": [
       "<Figure size 720x720 with 2 Axes>"
      ]
     },
     "metadata": {},
     "output_type": "display_data"
    }
   ],
   "source": [
    "plt.figure(figsize = (10,10))\n",
    "sns.heatmap(df_train_dummied.corr())"
   ]
  },
  {
   "cell_type": "code",
   "execution_count": 93,
   "metadata": {},
   "outputs": [],
   "source": [
    "used_features = ['Pclass','Age','SibSp','Parch','Sex_female','Sex_male','Embarked_C','Embarked_Q',\n",
    "                'Embarked_S']\n",
    "\n",
    "X = df_train_dummied[used_features].values\n",
    "y = df_train_dummied['Survived']"
   ]
  },
  {
   "cell_type": "code",
   "execution_count": 111,
   "metadata": {},
   "outputs": [],
   "source": [
    "X_train,X_test,y_train,y_test = train_test_split(X,y,test_size = 0.3, random_state = 1)"
   ]
  },
  {
   "cell_type": "code",
   "execution_count": 114,
   "metadata": {},
   "outputs": [
    {
     "name": "stdout",
     "output_type": "stream",
     "text": [
      "(622, 9)\n",
      "(267, 9)\n",
      "(622,)\n",
      "(267,)\n"
     ]
    }
   ],
   "source": [
    "print(X_train.shape)\n",
    "print(X_test.shape)\n",
    "print(y_train.shape)\n",
    "print(y_test.shape)"
   ]
  },
  {
   "cell_type": "code",
   "execution_count": 117,
   "metadata": {},
   "outputs": [],
   "source": [
    "LogReg = LogisticRegression()"
   ]
  },
  {
   "cell_type": "code",
   "execution_count": 122,
   "metadata": {},
   "outputs": [
    {
     "name": "stderr",
     "output_type": "stream",
     "text": [
      "C:\\Users\\Abhijeet\\Anaconda3\\lib\\site-packages\\sklearn\\linear_model\\logistic.py:432: FutureWarning: Default solver will be changed to 'lbfgs' in 0.22. Specify a solver to silence this warning.\n",
      "  FutureWarning)\n"
     ]
    },
    {
     "data": {
      "text/plain": [
       "LogisticRegression(C=1.0, class_weight=None, dual=False, fit_intercept=True,\n",
       "                   intercept_scaling=1, l1_ratio=None, max_iter=100,\n",
       "                   multi_class='warn', n_jobs=None, penalty='l2',\n",
       "                   random_state=None, solver='warn', tol=0.0001, verbose=0,\n",
       "                   warm_start=False)"
      ]
     },
     "execution_count": 122,
     "metadata": {},
     "output_type": "execute_result"
    }
   ],
   "source": [
    "LogReg.fit(X_train,y_train)"
   ]
  },
  {
   "cell_type": "code",
   "execution_count": 123,
   "metadata": {},
   "outputs": [],
   "source": [
    "y_pred = LogReg.predict(X_test)"
   ]
  },
  {
   "cell_type": "code",
   "execution_count": 127,
   "metadata": {},
   "outputs": [
    {
     "data": {
      "text/plain": [
       "array([[141,  25],\n",
       "       [ 22,  79]], dtype=int64)"
      ]
     },
     "execution_count": 127,
     "metadata": {},
     "output_type": "execute_result"
    }
   ],
   "source": [
    "metrics.confusion_matrix(y_test,y_pred)"
   ]
  },
  {
   "cell_type": "code",
   "execution_count": 128,
   "metadata": {},
   "outputs": [
    {
     "data": {
      "text/plain": [
       "0.8239700374531835"
      ]
     },
     "execution_count": 128,
     "metadata": {},
     "output_type": "execute_result"
    }
   ],
   "source": [
    "metrics.accuracy_score(y_test, y_pred)"
   ]
  },
  {
   "cell_type": "code",
   "execution_count": 129,
   "metadata": {},
   "outputs": [
    {
     "data": {
      "text/plain": [
       "267"
      ]
     },
     "execution_count": 129,
     "metadata": {},
     "output_type": "execute_result"
    }
   ],
   "source": [
    "len(X_test)"
   ]
  },
  {
   "cell_type": "code",
   "execution_count": 131,
   "metadata": {},
   "outputs": [
    {
     "name": "stdout",
     "output_type": "stream",
     "text": [
      "              precision    recall  f1-score   support\n",
      "\n",
      "           0       0.87      0.85      0.86       166\n",
      "           1       0.76      0.78      0.77       101\n",
      "\n",
      "    accuracy                           0.82       267\n",
      "   macro avg       0.81      0.82      0.81       267\n",
      "weighted avg       0.83      0.82      0.82       267\n",
      "\n"
     ]
    }
   ],
   "source": [
    "print(classification_report(y_test, y_pred))"
   ]
  },
  {
   "cell_type": "code",
   "execution_count": 132,
   "metadata": {},
   "outputs": [
    {
     "data": {
      "text/plain": [
       "array([[-0.93158886, -0.03365718, -0.22105523, -0.03237924,  2.04053497,\n",
       "        -0.31206889,  0.95081772,  0.48415987,  0.29348849]])"
      ]
     },
     "execution_count": 132,
     "metadata": {},
     "output_type": "execute_result"
    }
   ],
   "source": [
    "LogReg.coef_"
   ]
  },
  {
   "cell_type": "code",
   "execution_count": 133,
   "metadata": {},
   "outputs": [
    {
     "data": {
      "text/plain": [
       "array([1.72846608])"
      ]
     },
     "execution_count": 133,
     "metadata": {},
     "output_type": "execute_result"
    }
   ],
   "source": [
    "LogReg.intercept_"
   ]
  },
  {
   "cell_type": "code",
   "execution_count": 134,
   "metadata": {},
   "outputs": [
    {
     "data": {
      "text/plain": [
       "Index(['Pclass', 'Age', 'SibSp', 'Parch', 'Sex_female', 'Sex_male',\n",
       "       'Embarked_C', 'Embarked_Q', 'Embarked_S'],\n",
       "      dtype='object')"
      ]
     },
     "execution_count": 134,
     "metadata": {},
     "output_type": "execute_result"
    }
   ],
   "source": [
    "df_train_dummied[used_features].columns"
   ]
  },
  {
   "cell_type": "code",
   "execution_count": 135,
   "metadata": {},
   "outputs": [
    {
     "data": {
      "text/plain": [
       "array([[0.27137585, 0.72862415],\n",
       "       [0.3812907 , 0.6187093 ],\n",
       "       [0.93705176, 0.06294824],\n",
       "       [0.28498246, 0.71501754],\n",
       "       [0.93855022, 0.06144978],\n",
       "       [0.15035186, 0.84964814],\n",
       "       [0.34031435, 0.65968565],\n",
       "       [0.51286852, 0.48713148],\n",
       "       [0.77784609, 0.22215391],\n",
       "       [0.40308285, 0.59691715],\n",
       "       [0.73869389, 0.26130611],\n",
       "       [0.21638753, 0.78361247],\n",
       "       [0.75571899, 0.24428101],\n",
       "       [0.16935669, 0.83064331],\n",
       "       [0.86120552, 0.13879448],\n",
       "       [0.37115502, 0.62884498],\n",
       "       [0.87641965, 0.12358035],\n",
       "       [0.29879878, 0.70120122],\n",
       "       [0.18517097, 0.81482903],\n",
       "       [0.43237451, 0.56762549],\n",
       "       [0.89677656, 0.10322344],\n",
       "       [0.58698184, 0.41301816],\n",
       "       [0.85667563, 0.14332437],\n",
       "       [0.93246241, 0.06753759],\n",
       "       [0.52812138, 0.47187862],\n",
       "       [0.49439843, 0.50560157],\n",
       "       [0.04831659, 0.95168341],\n",
       "       [0.86517989, 0.13482011],\n",
       "       [0.89222845, 0.10777155],\n",
       "       [0.34284939, 0.65715061],\n",
       "       [0.38699755, 0.61300245],\n",
       "       [0.43594771, 0.56405229],\n",
       "       [0.17367171, 0.82632829],\n",
       "       [0.46947448, 0.53052552],\n",
       "       [0.61467794, 0.38532206],\n",
       "       [0.18354514, 0.81645486],\n",
       "       [0.67298816, 0.32701184],\n",
       "       [0.86905776, 0.13094224],\n",
       "       [0.25525276, 0.74474724],\n",
       "       [0.57768311, 0.42231689],\n",
       "       [0.42697092, 0.57302908],\n",
       "       [0.8995139 , 0.1004861 ],\n",
       "       [0.35537975, 0.64462025],\n",
       "       [0.86905776, 0.13094224],\n",
       "       [0.78725342, 0.21274658],\n",
       "       [0.24558825, 0.75441175],\n",
       "       [0.1801464 , 0.8198536 ],\n",
       "       [0.81243678, 0.18756322],\n",
       "       [0.07646227, 0.92353773],\n",
       "       [0.91402912, 0.08597088],\n",
       "       [0.86905776, 0.13094224],\n",
       "       [0.4525655 , 0.5474345 ],\n",
       "       [0.88895066, 0.11104934],\n",
       "       [0.10705472, 0.89294528],\n",
       "       [0.75571899, 0.24428101],\n",
       "       [0.08642698, 0.91357302],\n",
       "       [0.77971032, 0.22028968],\n",
       "       [0.94161087, 0.05838913],\n",
       "       [0.71654897, 0.28345103],\n",
       "       [0.93009816, 0.06990184],\n",
       "       [0.80367445, 0.19632555],\n",
       "       [0.85713334, 0.14286666],\n",
       "       [0.61467794, 0.38532206],\n",
       "       [0.86905776, 0.13094224],\n",
       "       [0.4525655 , 0.5474345 ],\n",
       "       [0.24890744, 0.75109256],\n",
       "       [0.86905776, 0.13094224],\n",
       "       [0.90284341, 0.09715659],\n",
       "       [0.83899432, 0.16100568],\n",
       "       [0.06954733, 0.93045267],\n",
       "       [0.84894303, 0.15105697],\n",
       "       [0.07175711, 0.92824289],\n",
       "       [0.62389876, 0.37610124],\n",
       "       [0.85713334, 0.14286666],\n",
       "       [0.31309053, 0.68690947],\n",
       "       [0.15035186, 0.84964814],\n",
       "       [0.8457934 , 0.1542066 ],\n",
       "       [0.91551912, 0.08448088],\n",
       "       [0.81589186, 0.18410814],\n",
       "       [0.82734033, 0.17265967],\n",
       "       [0.8457934 , 0.1542066 ],\n",
       "       [0.86120552, 0.13879448],\n",
       "       [0.04831659, 0.95168341],\n",
       "       [0.07079374, 0.92920626],\n",
       "       [0.76793092, 0.23206908],\n",
       "       [0.63829936, 0.36170064],\n",
       "       [0.44806017, 0.55193983],\n",
       "       [0.45224891, 0.54775109],\n",
       "       [0.86905776, 0.13094224],\n",
       "       [0.37115502, 0.62884498],\n",
       "       [0.89037686, 0.10962314],\n",
       "       [0.34284939, 0.65715061],\n",
       "       [0.92536611, 0.07463389],\n",
       "       [0.77474905, 0.22525095],\n",
       "       [0.2465162 , 0.7534838 ],\n",
       "       [0.83474865, 0.16525135],\n",
       "       [0.24984539, 0.75015461],\n",
       "       [0.28555941, 0.71444059],\n",
       "       [0.2465162 , 0.7534838 ],\n",
       "       [0.2273644 , 0.7726356 ],\n",
       "       [0.84869053, 0.15130947],\n",
       "       [0.34762065, 0.65237935],\n",
       "       [0.61586201, 0.38413799],\n",
       "       [0.85296208, 0.14703792],\n",
       "       [0.85296208, 0.14703792],\n",
       "       [0.90353036, 0.09646964],\n",
       "       [0.13751161, 0.86248839],\n",
       "       [0.84869053, 0.15130947],\n",
       "       [0.76278507, 0.23721493],\n",
       "       [0.81243678, 0.18756322],\n",
       "       [0.65800513, 0.34199487],\n",
       "       [0.75571899, 0.24428101],\n",
       "       [0.77474905, 0.22525095],\n",
       "       [0.1946311 , 0.8053689 ],\n",
       "       [0.35443749, 0.64556251],\n",
       "       [0.09322025, 0.90677975],\n",
       "       [0.91187727, 0.08812273],\n",
       "       [0.40308285, 0.59691715],\n",
       "       [0.07290396, 0.92709604],\n",
       "       [0.7910545 , 0.2089455 ],\n",
       "       [0.87284048, 0.12715952],\n",
       "       [0.21716295, 0.78283705],\n",
       "       [0.34284939, 0.65715061],\n",
       "       [0.54093425, 0.45906575],\n",
       "       [0.21491007, 0.78508993],\n",
       "       [0.88535117, 0.11464883],\n",
       "       [0.49022206, 0.50977794],\n",
       "       [0.9079262 , 0.0920738 ],\n",
       "       [0.87652945, 0.12347055],\n",
       "       [0.55862766, 0.44137234],\n",
       "       [0.44055859, 0.55944141],\n",
       "       [0.61586201, 0.38413799],\n",
       "       [0.87452658, 0.12547342],\n",
       "       [0.61467794, 0.38532206],\n",
       "       [0.37115502, 0.62884498],\n",
       "       [0.08805056, 0.91194944],\n",
       "       [0.85713334, 0.14286666],\n",
       "       [0.91663731, 0.08336269],\n",
       "       [0.86905776, 0.13094224],\n",
       "       [0.88363189, 0.11636811],\n",
       "       [0.85007375, 0.14992625],\n",
       "       [0.31721548, 0.68278452],\n",
       "       [0.91402912, 0.08597088],\n",
       "       [0.3915412 , 0.6084588 ],\n",
       "       [0.61467794, 0.38532206],\n",
       "       [0.69229624, 0.30770376],\n",
       "       [0.19382899, 0.80617101],\n",
       "       [0.11174975, 0.88825025],\n",
       "       [0.09484915, 0.90515085],\n",
       "       [0.92371528, 0.07628472],\n",
       "       [0.8673955 , 0.1326045 ],\n",
       "       [0.92636445, 0.07363555],\n",
       "       [0.15099198, 0.84900802],\n",
       "       [0.84869053, 0.15130947],\n",
       "       [0.41129943, 0.58870057],\n",
       "       [0.37115502, 0.62884498],\n",
       "       [0.78156184, 0.21843816],\n",
       "       [0.38402838, 0.61597162],\n",
       "       [0.88363189, 0.11636811],\n",
       "       [0.86905776, 0.13094224],\n",
       "       [0.54093425, 0.45906575],\n",
       "       [0.77387491, 0.22612509],\n",
       "       [0.55862766, 0.44137234],\n",
       "       [0.87247673, 0.12752327],\n",
       "       [0.86249288, 0.13750712],\n",
       "       [0.83526292, 0.16473708],\n",
       "       [0.1397941 , 0.8602059 ],\n",
       "       [0.06848302, 0.93151698],\n",
       "       [0.78620557, 0.21379443],\n",
       "       [0.2486686 , 0.7513314 ],\n",
       "       [0.84869053, 0.15130947],\n",
       "       [0.89738391, 0.10261609],\n",
       "       [0.8457934 , 0.1542066 ],\n",
       "       [0.86905776, 0.13094224],\n",
       "       [0.68949955, 0.31050045],\n",
       "       [0.33288441, 0.66711559],\n",
       "       [0.86120552, 0.13879448],\n",
       "       [0.72333487, 0.27666513],\n",
       "       [0.86905776, 0.13094224],\n",
       "       [0.84869053, 0.15130947],\n",
       "       [0.8457934 , 0.1542066 ],\n",
       "       [0.86905776, 0.13094224],\n",
       "       [0.64135476, 0.35864524],\n",
       "       [0.92689855, 0.07310145],\n",
       "       [0.34284939, 0.65715061],\n",
       "       [0.79790469, 0.20209531],\n",
       "       [0.3942298 , 0.6057702 ],\n",
       "       [0.60667614, 0.39332386],\n",
       "       [0.23266405, 0.76733595],\n",
       "       [0.89677656, 0.10322344],\n",
       "       [0.75502922, 0.24497078],\n",
       "       [0.72258723, 0.27741277],\n",
       "       [0.86120552, 0.13879448],\n",
       "       [0.7713195 , 0.2286805 ],\n",
       "       [0.92757176, 0.07242824],\n",
       "       [0.74513819, 0.25486181],\n",
       "       [0.89561053, 0.10438947],\n",
       "       [0.28803238, 0.71196762],\n",
       "       [0.61467794, 0.38532206],\n",
       "       [0.08116252, 0.91883748],\n",
       "       [0.7219306 , 0.2780694 ],\n",
       "       [0.19916211, 0.80083789],\n",
       "       [0.78904911, 0.21095089],\n",
       "       [0.56711206, 0.43288794],\n",
       "       [0.05770038, 0.94229962],\n",
       "       [0.88363189, 0.11636811],\n",
       "       [0.87096093, 0.12903907],\n",
       "       [0.31228829, 0.68771171],\n",
       "       [0.80007791, 0.19992209],\n",
       "       [0.10387959, 0.89612041],\n",
       "       [0.8457934 , 0.1542066 ],\n",
       "       [0.74945226, 0.25054774],\n",
       "       [0.77474905, 0.22525095],\n",
       "       [0.76278507, 0.23721493],\n",
       "       [0.35234632, 0.64765368],\n",
       "       [0.20377052, 0.79622948],\n",
       "       [0.76187877, 0.23812123],\n",
       "       [0.20282946, 0.79717054],\n",
       "       [0.90575596, 0.09424404],\n",
       "       [0.70189961, 0.29810039],\n",
       "       [0.87247673, 0.12752327],\n",
       "       [0.48648999, 0.51351001],\n",
       "       [0.66987536, 0.33012464],\n",
       "       [0.23333114, 0.76666886],\n",
       "       [0.25549577, 0.74450423],\n",
       "       [0.86120552, 0.13879448],\n",
       "       [0.61633973, 0.38366027],\n",
       "       [0.8457934 , 0.1542066 ],\n",
       "       [0.7805683 , 0.2194317 ],\n",
       "       [0.75548299, 0.24451701],\n",
       "       [0.3942298 , 0.6057702 ],\n",
       "       [0.28982696, 0.71017304],\n",
       "       [0.45657546, 0.54342454],\n",
       "       [0.8457934 , 0.1542066 ],\n",
       "       [0.89037686, 0.10962314],\n",
       "       [0.88558276, 0.11441724],\n",
       "       [0.86905776, 0.13094224],\n",
       "       [0.80248473, 0.19751527],\n",
       "       [0.39996246, 0.60003754],\n",
       "       [0.87284048, 0.12715952],\n",
       "       [0.29879878, 0.70120122],\n",
       "       [0.8457934 , 0.1542066 ],\n",
       "       [0.84869053, 0.15130947],\n",
       "       [0.67408806, 0.32591194],\n",
       "       [0.49885675, 0.50114325],\n",
       "       [0.12027487, 0.87972513],\n",
       "       [0.14703546, 0.85296454],\n",
       "       [0.79358513, 0.20641487],\n",
       "       [0.69788529, 0.30211471],\n",
       "       [0.87121735, 0.12878265],\n",
       "       [0.24114637, 0.75885363],\n",
       "       [0.34284939, 0.65715061],\n",
       "       [0.39501178, 0.60498822],\n",
       "       [0.93074411, 0.06925589],\n",
       "       [0.12423756, 0.87576244],\n",
       "       [0.23162838, 0.76837162],\n",
       "       [0.87652945, 0.12347055],\n",
       "       [0.89677656, 0.10322344],\n",
       "       [0.0481992 , 0.9518008 ],\n",
       "       [0.77474905, 0.22525095],\n",
       "       [0.21575671, 0.78424329],\n",
       "       [0.87408628, 0.12591372],\n",
       "       [0.67270685, 0.32729315],\n",
       "       [0.86905776, 0.13094224],\n",
       "       [0.28982696, 0.71017304],\n",
       "       [0.8457934 , 0.1542066 ],\n",
       "       [0.90428602, 0.09571398]])"
      ]
     },
     "execution_count": 135,
     "metadata": {},
     "output_type": "execute_result"
    }
   ],
   "source": [
    "LogReg.predict_proba(X_test)"
   ]
  },
  {
   "cell_type": "code",
   "execution_count": null,
   "metadata": {},
   "outputs": [],
   "source": []
  }
 ],
 "metadata": {
  "kernelspec": {
   "display_name": "Python 3",
   "language": "python",
   "name": "python3"
  },
  "language_info": {
   "codemirror_mode": {
    "name": "ipython",
    "version": 3
   },
   "file_extension": ".py",
   "mimetype": "text/x-python",
   "name": "python",
   "nbconvert_exporter": "python",
   "pygments_lexer": "ipython3",
   "version": "3.7.3"
  }
 },
 "nbformat": 4,
 "nbformat_minor": 4
}
